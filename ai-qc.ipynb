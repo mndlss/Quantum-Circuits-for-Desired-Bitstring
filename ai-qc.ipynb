{
 "cells": [
  {
   "cell_type": "code",
   "execution_count": 17,
   "metadata": {},
   "outputs": [
    {
     "name": "stdout",
     "output_type": "stream",
     "text": [
      "     ┌─────────────┐┌────────────┐     ┌────────────┐┌────────────┐»\n",
      "q_0: ┤ Rx(0.35672) ├┤ Ry(1.3365) ├──■──┤ Rx(3.9374) ├┤ Ry(5.0711) ├»\n",
      "     └┬────────────┤├────────────┤┌─┴─┐└────────────┘├────────────┤»\n",
      "q_1: ─┤ Rx(2.8186) ├┤ Ry(2.5854) ├┤ X ├──────■───────┤ Rx(6.1133) ├»\n",
      "      ├───────────┬┘├────────────┤└───┘    ┌─┴─┐     ├────────────┤»\n",
      "q_2: ─┤ Rx(1.681) ├─┤ Ry(2.4575) ├─────────┤ X ├─────┤ Rx(1.6093) ├»\n",
      "      └───────────┘ └────────────┘         └───┘     └────────────┘»\n",
      "«                             \n",
      "«q_0: ────────────────■───────\n",
      "«     ┌────────────┐┌─┴─┐     \n",
      "«q_1: ┤ Ry(3.1921) ├┤ X ├──■──\n",
      "«     ├────────────┤└───┘┌─┴─┐\n",
      "«q_2: ┤ Ry(6.1377) ├─────┤ X ├\n",
      "«     └────────────┘     └───┘\n",
      "Number of parameters: 12\n"
     ]
    }
   ],
   "source": [
    "#Random Parameterized Quantum Circuit \n",
    "\n",
    "import random\n",
    "import numpy as np\n",
    "from qiskit import QuantumCircuit\n",
    "from qiskit.circuit.library import RXGate, RYGate, CXGate\n",
    "\n",
    "def create_parameterized_ansatz(qubits, layers):\n",
    "    circuit = QuantumCircuit(qubits)\n",
    "    parameters = []\n",
    "\n",
    "    for _ in range(layers):\n",
    "        # Single-qubit rotations\n",
    "        for qubit in range(qubits):\n",
    "            theta = np.random.uniform(0, 2 * np.pi)\n",
    "            phi = np.random.uniform(0, 2 * np.pi)\n",
    "            circuit.rx(theta, qubit)\n",
    "            circuit.ry(phi, qubit)\n",
    "            parameters.extend([theta, phi])\n",
    "\n",
    "        # Entangling layer (example: linear entanglement)\n",
    "        for qubit in range(qubits - 1):\n",
    "            circuit.cx(qubit, qubit + 1)\n",
    "\n",
    "    return circuit, parameters\n",
    "\n",
    "qubits = 3\n",
    "layers = 2\n",
    "ansatz, params = create_parameterized_ansatz(qubits, layers)\n",
    "\n",
    "print(ansatz)\n",
    "print(f\"Number of parameters: {len(params)}\")"
   ]
  }
 ],
 "metadata": {
  "kernelspec": {
   "display_name": "myenv",
   "language": "python",
   "name": "python3"
  },
  "language_info": {
   "codemirror_mode": {
    "name": "ipython",
    "version": 3
   },
   "file_extension": ".py",
   "mimetype": "text/x-python",
   "name": "python",
   "nbconvert_exporter": "python",
   "pygments_lexer": "ipython3",
   "version": "3.13.2"
  }
 },
 "nbformat": 4,
 "nbformat_minor": 2
}
